{
 "cells": [
  {
   "cell_type": "code",
   "execution_count": 1,
   "metadata": {},
   "outputs": [],
   "source": [
    "%load_ext autoreload\n",
    "%autoreload 2"
   ]
  },
  {
   "cell_type": "code",
   "execution_count": 2,
   "metadata": {},
   "outputs": [
    {
     "name": "stdout",
     "output_type": "stream",
     "text": [
      "env: NVIDIA_VISIBLE_DEVICES=1\n",
      "env: CUDA_VISIBLE_DEVICES=3\n",
      "1\n",
      "3\n"
     ]
    },
    {
     "data": {
      "text/plain": [
       "device(type='cuda', index=0)"
      ]
     },
     "execution_count": 2,
     "metadata": {},
     "output_type": "execute_result"
    }
   ],
   "source": [
    "import torch\n",
    "\n",
    "%env NVIDIA_VISIBLE_DEVICES=1\n",
    "%env CUDA_VISIBLE_DEVICES=3\n",
    "\n",
    "!echo $NVIDIA_VISIBLE_DEVICES\n",
    "!echo $CUDA_VISIBLE_DEVICES\n",
    "\n",
    "DEVICE=torch.device('cuda:0' if torch.cuda.is_available() else 'cpu')\n",
    "DEVICE"
   ]
  },
  {
   "cell_type": "code",
   "execution_count": 3,
   "metadata": {},
   "outputs": [],
   "source": [
    "import pandas as pd\n",
    "import numpy as np\n",
    "\n",
    "from torch.utils.data import DataLoader"
   ]
  },
  {
   "cell_type": "markdown",
   "metadata": {},
   "source": [
    "## Set up training data & parameters:"
   ]
  },
  {
   "cell_type": "code",
   "execution_count": 4,
   "metadata": {},
   "outputs": [
    {
     "data": {
      "text/plain": [
       "((57888,), (28512,))"
      ]
     },
     "execution_count": 4,
     "metadata": {},
     "output_type": "execute_result"
    }
   ],
   "source": [
    "from sklearn.model_selection import train_test_split\n",
    "import ts_dataset as ds\n",
    "import utils\n",
    "\n",
    "price_data = pd.read_csv('datasets/btc-usdt-1.csv')\n",
    "\n",
    "input_data = ((price_data.bid_price + price_data.ask_price) / 2).values\n",
    "\n",
    "train_data, val_data = train_test_split(input_data, test_size=0.33)\n",
    "train_data.shape, val_data.shape"
   ]
  },
  {
   "cell_type": "code",
   "execution_count": 13,
   "metadata": {},
   "outputs": [],
   "source": [
    "def get_dataloader(data, enc_seq_len=60, dec_seq_len=120, step_size=1, batch_first=True, batch_size=None):\n",
    "    '''\n",
    "    E.g. if you want the model to consider the past 100\n",
    "    time steps in order to predict the future 50 \n",
    "    time steps, window_size = 100+50 = 150\n",
    "    \n",
    "    Args:\n",
    "    \n",
    "        enc_seq_len: int, length of input given to encoder\n",
    "\n",
    "        dec_seq_len: int, length of input given to decoder\n",
    "        \n",
    "        step_size: int, Step size, i.e. how many time steps does the moving window move at each step\n",
    "            \n",
    "    '''\n",
    "    \n",
    "    output_sequence_length = dec_seq_len # target sequence length. If hourly data and length = 48, you predict 2 days ahead\n",
    "\n",
    "    window_size = enc_seq_len + output_sequence_length # used to slice data into sub-sequences\n",
    "   \n",
    "    indices = utils.get_indices_entire_sequence(\n",
    "        data=data, \n",
    "        window_size=window_size, \n",
    "        step_size=step_size\n",
    "    )\n",
    "\n",
    "    # Making instance of custom dataset class\n",
    "    data = ds.TransformerDataset(\n",
    "        data=torch.FloatTensor(data).unsqueeze(1),\n",
    "        indices=indices,\n",
    "        enc_seq_len=enc_seq_len,\n",
    "        dec_seq_len=dec_seq_len,\n",
    "        target_seq_len=output_sequence_length\n",
    "    )\n",
    "\n",
    "    # Making dataloader\n",
    "    return DataLoader(data, batch_size, shuffle=False, num_workers=40) # replace 40 with your number"
   ]
  },
  {
   "cell_type": "code",
   "execution_count": 14,
   "metadata": {},
   "outputs": [
    {
     "name": "stdout",
     "output_type": "stream",
     "text": [
      "From get_src_trg: data size = torch.Size([57888, 1])\n",
      "From get_src_trg: data size = torch.Size([28512, 1])\n"
     ]
    }
   ],
   "source": [
    "BATCH_SIZE=64\n",
    "\n",
    "train_loader = get_dataloader(train_data, batch_size=BATCH_SIZE)\n",
    "val_loader = get_dataloader(val_data, batch_size=BATCH_SIZE)"
   ]
  },
  {
   "cell_type": "markdown",
   "metadata": {},
   "source": [
    "## PyTorch Lightning section"
   ]
  },
  {
   "cell_type": "markdown",
   "metadata": {},
   "source": [
    "### Importing module with your model"
   ]
  },
  {
   "cell_type": "code",
   "execution_count": 19,
   "metadata": {},
   "outputs": [
    {
     "data": {
      "text/plain": [
       "(4799, None)"
      ]
     },
     "execution_count": 19,
     "metadata": {},
     "output_type": "execute_result"
    }
   ],
   "source": [
    "import gc\n",
    "gc.collect(), torch.cuda.empty_cache()"
   ]
  },
  {
   "cell_type": "code",
   "execution_count": 20,
   "metadata": {},
   "outputs": [],
   "source": [
    "import baseline as tst # replace with your model import\n",
    "from model import SeqNet # needed\n",
    "\n",
    "enc_seq_len=60\n",
    "dec_seq_len=120\n",
    "\n",
    "N_EPOCHS=30\n",
    "\n",
    "backbone_net = tst.TimeSeriesTransformer(\n",
    "    input_size=1, # num of input features\n",
    "    dec_seq_len=enc_seq_len, # like in get_dataloader\n",
    "    batch_first=True,\n",
    "    num_predicted_features=1\n",
    ")\n",
    "\n",
    "model = SeqNet(\n",
    "    backbone_net=backbone_net,\n",
    "    forecast_window=dec_seq_len,\n",
    "    enc_seq_len=enc_seq_len,\n",
    "    n_epochs=N_EPOCHS, # needed for lr scheduling\n",
    ").to(DEVICE)"
   ]
  },
  {
   "cell_type": "markdown",
   "metadata": {},
   "source": [
    "### Initializing logging and checkpointing params"
   ]
  },
  {
   "cell_type": "code",
   "execution_count": 21,
   "metadata": {},
   "outputs": [
    {
     "name": "stderr",
     "output_type": "stream",
     "text": [
      "GPU available: True (cuda), used: True\n",
      "TPU available: False, using: 0 TPU cores\n",
      "IPU available: False, using: 0 IPUs\n",
      "HPU available: False, using: 0 HPUs\n"
     ]
    }
   ],
   "source": [
    "import pytorch_lightning as pl\n",
    "from pytorch_lightning.callbacks import ModelCheckpoint\n",
    "\n",
    "wb_logger = pl.loggers.WandbLogger(\n",
    "    name=f\"TS_transformer_baseline|n_epochs={N_EPOCHS}|batch_size={BATCH_SIZE}\",\n",
    "    project='sequential_data'\n",
    ")\n",
    "\n",
    "checkpoint_callback = ModelCheckpoint(\n",
    "    dirpath='checkpoints',\n",
    "    monitor='val_MSE', # name of SeqNet attribute\n",
    "    filename='{epoch:02d}-{val_f1:.3f}',\n",
    "    mode='min'\n",
    ")\n",
    "\n",
    "trainer = pl.Trainer(\n",
    "    max_epochs=N_EPOCHS,\n",
    "    logger=wb_logger,\n",
    "    accelerator='gpu',\n",
    "    devices=1,\n",
    "    benchmark=True,\n",
    "    callbacks=[checkpoint_callback]\n",
    ")"
   ]
  },
  {
   "cell_type": "code",
   "execution_count": null,
   "metadata": {},
   "outputs": [
    {
     "name": "stderr",
     "output_type": "stream",
     "text": [
      "LOCAL_RANK: 0 - CUDA_VISIBLE_DEVICES: [3]\n",
      "\n",
      "  | Name      | Type                  | Params\n",
      "----------------------------------------------------\n",
      "0 | model     | TimeSeriesTransformer | 29.4 M\n",
      "1 | criterion | MSELoss               | 0     \n",
      "2 | mae       | L1Loss                | 0     \n",
      "3 | train_mse | MeanSquaredError      | 0     \n",
      "4 | val_mse   | MeanSquaredError      | 0     \n",
      "----------------------------------------------------\n",
      "29.4 M    Trainable params\n",
      "0         Non-trainable params\n",
      "29.4 M    Total params\n",
      "117.713   Total estimated model params size (MB)\n"
     ]
    },
    {
     "data": {
      "application/json": {
       "ascii": false,
       "bar_format": null,
       "colour": null,
       "elapsed": 0.027988195419311523,
       "initial": 0,
       "n": 0,
       "ncols": null,
       "nrows": null,
       "postfix": null,
       "prefix": "Sanity Checking",
       "rate": null,
       "total": null,
       "unit": "it",
       "unit_divisor": 1000,
       "unit_scale": false
      },
      "application/vnd.jupyter.widget-view+json": {
       "model_id": "23fe8a973c1145feb81bc9bbf4fee50d",
       "version_major": 2,
       "version_minor": 0
      },
      "text/plain": [
       "Sanity Checking: 0it [00:00, ?it/s]"
      ]
     },
     "metadata": {},
     "output_type": "display_data"
    },
    {
     "data": {
      "application/json": {
       "ascii": false,
       "bar_format": null,
       "colour": null,
       "elapsed": 0.028586387634277344,
       "initial": 0,
       "n": 0,
       "ncols": null,
       "nrows": null,
       "postfix": null,
       "prefix": "Training",
       "rate": null,
       "total": null,
       "unit": "it",
       "unit_divisor": 1000,
       "unit_scale": false
      },
      "application/vnd.jupyter.widget-view+json": {
       "model_id": "6bd6997c428749dfae4b89166e607d15",
       "version_major": 2,
       "version_minor": 0
      },
      "text/plain": [
       "Training: 0it [00:00, ?it/s]"
      ]
     },
     "metadata": {},
     "output_type": "display_data"
    }
   ],
   "source": [
    "trainer.fit(\n",
    "    model=model,\n",
    "    train_dataloaders=train_loader,\n",
    "    val_dataloaders=val_loader\n",
    ")\n",
    "\n",
    "wandb.finish()"
   ]
  },
  {
   "cell_type": "markdown",
   "metadata": {},
   "source": [
    "#### Random output validation"
   ]
  },
  {
   "cell_type": "code",
   "execution_count": 96,
   "metadata": {},
   "outputs": [
    {
     "data": {
      "image/png": "[encoded data removed]",
      "text/plain": [
       "<Figure size 640x480 with 1 Axes>"
      ]
     },
     "metadata": {},
     "output_type": "display_data"
    }
   ],
   "source": [
    "idx=13\n",
    "\n",
    "plt.plot(prediction[idx].detach().squeeze().numpy())\n",
    "\n",
    "plt.plot(tgt_y[idx].detach().squeeze().cpu().numpy(), c='k')\n",
    "\n",
    "plt.show()"
   ]
  }
 ],
 "metadata": {
  "kernelspec": {
   "display_name": "Python (myenv)",
   "language": "python",
   "name": "myenv"
  },
  "language_info": {
   "codemirror_mode": {
    "name": "ipython",
    "version": 3
   },
   "file_extension": ".py",
   "mimetype": "text/x-python",
   "name": "python",
   "nbconvert_exporter": "python",
   "pygments_lexer": "ipython3",
   "version": "3.9.6"
  },
  "vscode": {
   "interpreter": {
    "hash": "e3f43fd401cdc46c7579e2b5a1ac9f12820ab8bd56f17154833f004e8ad52f07"
   }
  }
 },
 "nbformat": 4,
 "nbformat_minor": 2
}
