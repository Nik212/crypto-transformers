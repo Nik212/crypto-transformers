{
  "cells": [
    {
      "attachments": {},
      "cell_type": "markdown",
      "metadata": {},
      "source": [
        "How to use if you want to do the *INFERENCE*\n",
        "- Download *checkpoints_baseline* from https://drive.google.com/drive/folders/1_13U4DmnYnTqc8FfvA7AL5pO5V5HDcTn. Make sure that the following path exists *\"/informer_experiments/checkpoints_informer\"*\n",
        "- Clone the informer original repo (required step), navigate to the clonned repo\n",
        "- Make sure that you coppied the dataset from the ```efficient-transformers-4seqdata/datasets``` to ```Informer2020/data```. You can use the ```cp``` command\n",
        "- Run the code blocks sequentially up to *Training & Inference* section. You don't have to load models yourself, it is done automatically in the inference loops\n",
        "- Run the inference part\n",
        "\n",
        "\n",
        "If you want to train a model, just use the training section"
      ]
    },
    {
      "cell_type": "code",
      "execution_count": 1,
      "metadata": {
        "colab": {
          "base_uri": "https://localhost:8080/"
        },
        "id": "e-TZvldgPDCa",
        "outputId": "ec25e4bf-3818-410d-ae42-cc13fa807ad1"
      },
      "outputs": [],
      "source": [
        "!git clone https://github.com/zhouhaoyi/Informer2020"
      ]
    },
    {
      "cell_type": "code",
      "execution_count": 5,
      "metadata": {
        "colab": {
          "base_uri": "https://localhost:8080/"
        },
        "id": "3YUp-YvaPm45",
        "outputId": "b06c61ea-ce97-4b91-9f44-2e669cfe05f5"
      },
      "outputs": [
        {
          "name": "stdout",
          "output_type": "stream",
          "text": [
            "d:\\efficient-transformers-4seqdata\\informer_experiments\\Informer2020\n"
          ]
        }
      ],
      "source": [
        "%cd Informer2020/\n",
        "#!cp ../../datasets/btc-usdt-1.csv data/"
      ]
    },
    {
      "cell_type": "code",
      "execution_count": 6,
      "metadata": {
        "id": "dDfZaolePjIq"
      },
      "outputs": [],
      "source": [
        "from data.data_loader import Dataset_Custom\n",
        "from torch.utils.data import DataLoader\n",
        "import pandas as pd\n",
        "import os\n",
        "from utils.tools import dotdict\n",
        "from exp.exp_informer import Exp_Informer\n",
        "import torch"
      ]
    },
    {
      "cell_type": "code",
      "execution_count": 7,
      "metadata": {
        "id": "2AjMQ534PRQS"
      },
      "outputs": [],
      "source": [
        "root_path = 'data//'\n",
        "data_path = 'btc-usdt-1.csv'\n",
        "\n",
        "df = pd.read_csv(os.path.join(root_path, data_path))\n",
        "df['target'] = (df['bid_price'] + df['ask_price'])/2\n",
        "df = df.drop(['exchange_time', 'instrument', 'bid_price', 'bid_size', 'ask_price', 'ask_size'], axis = 1)\n",
        "df.columns = df.columns.str.replace('our_time', 'date')\n",
        "df.to_csv('data_clean.csv',index = False, sep=',')"
      ]
    },
    {
      "cell_type": "code",
      "execution_count": 8,
      "metadata": {
        "id": "4ZthOPSsQB1e"
      },
      "outputs": [],
      "source": [
        "args = dotdict()\n",
        "\n",
        "args.model = 'informer' # model of experiment, options: [informer, informerstack, informerlight(TBD)]\n",
        "\n",
        "args.features = 'S' # forecasting task, options:[M, S, MS]; M:multivariate predict multivariate, S:univariate predict univariate, MS:multivariate predict univariate\n",
        "args.target = 'target' # target feature in S or MS task\n",
        "args.freq = 's' # freq for time features encoding, options:[s:secondly, t:minutely, h:hourly, d:daily, b:business days, w:weekly, m:monthly], you can also use more detailed freq like 15min or 3h\n",
        "args.checkpoints = './informer_checkpoints' # location of model checkpoints\n",
        "\n",
        "args.seq_len = 30  # input sequence length of Informer encoder\n",
        "args.label_len = 15 # start token length of Informer decoder\n",
        "args.pred_len = 5 # prediction sequence length\n",
        "# Informer decoder input: concat[start token series(label_len), zero padding series(pred_len)]\n",
        "\n",
        "args.enc_in = 1 # encoder input size\n",
        "args.dec_in = 1 # decoder input size\n",
        "args.c_out = 1 # output size\n",
        "args.factor = 1 # probsparse attn factor\n",
        "args.d_model = 512 # dimension of model\n",
        "args.n_heads = 8 # num of heads\n",
        "args.e_layers = 2 # num of encoder layers\n",
        "args.d_layers = 1 # num of decoder layers\n",
        "args.d_ff = 2048 # dimension of fcn in model\n",
        "args.dropout = 0.05 # dropout\n",
        "args.attn = 'prob' # attention used in encoder, options:[prob, full]\n",
        "args.embed = 'timeF' # time features encoding, options:[timeF, fixed, learned]\n",
        "args.activation = 'gelu' # activation\n",
        "args.distil = True # whether to use distilling in encoder\n",
        "args.output_attention = False # whether to output attention in ecoder\n",
        "args.mix = True\n",
        "args.padding = 0\n",
        "\n",
        "args.batch_size = 256\n",
        "args.learning_rate = 0.0001\n",
        "args.loss = 'mse'\n",
        "args.lradj = 'type1'\n",
        "args.use_amp = False # whether to use automatic mixed precision training\n",
        "\n",
        "args.num_workers = 0\n",
        "args.itr = 1\n",
        "args.train_epochs = 1\n",
        "args.patience = 1\n",
        "args.des = 'exp'\n",
        "\n",
        "args.use_gpu = True if torch.cuda.is_available() else False\n",
        "args.gpu = 0\n",
        "\n",
        "args.use_multi_gpu = False\n",
        "args.devices = '0,1,2,3'"
      ]
    },
    {
      "cell_type": "code",
      "execution_count": 9,
      "metadata": {
        "id": "bS4-5ODtQK30"
      },
      "outputs": [],
      "source": [
        "args.root_path = '.'\n",
        "args.data_path = 'data_clean.csv'"
      ]
    },
    {
      "cell_type": "code",
      "execution_count": 10,
      "metadata": {
        "id": "T_HOY_JOQWHQ"
      },
      "outputs": [],
      "source": [
        "'''\n",
        "set 'target'\n",
        "\n",
        "The following frequencies are supported:\n",
        "        Y   - yearly\n",
        "            alias: A\n",
        "        M   - monthly\n",
        "        W   - weekly\n",
        "        D   - daily\n",
        "        B   - business days\n",
        "        H   - hourly\n",
        "        T   - minutely\n",
        "            alias: min\n",
        "        S   - secondly\n",
        "'''\n",
        "\n",
        "timeenc = 0 if args.embed!='timeF' else 1\n",
        "flag = 'train'; shuffle_flag = True; drop_last = True; batch_size = 1\n",
        "\n",
        "data_set = Dataset_Custom(\n",
        "    root_path=args.root_path,\n",
        "    data_path=args.data_path,\n",
        "    flag=flag,\n",
        "    size=[args.seq_len, args.label_len, args.pred_len],\n",
        "    features=args.features,\n",
        "    timeenc=timeenc,\n",
        "    target=args.target, \n",
        "    freq=args.freq\n",
        ")\n",
        "data_loader = DataLoader(\n",
        "    data_set,\n",
        "    batch_size=batch_size,\n",
        "    shuffle=shuffle_flag,\n",
        "    num_workers=args.num_workers,\n",
        "    drop_last=drop_last)"
      ]
    },
    {
      "cell_type": "code",
      "execution_count": 11,
      "metadata": {
        "id": "m5O7m9ubQl8u"
      },
      "outputs": [],
      "source": [
        "args.use_gpu = True if torch.cuda.is_available() and args.use_gpu else False\n",
        "\n",
        "if args.use_gpu and args.use_multi_gpu:\n",
        "    args.devices = args.devices.replace(' ','')\n",
        "    device_ids = args.devices.split(',')\n",
        "    args.device_ids = [int(id_) for id_ in device_ids]\n",
        "    args.gpu = args.device_ids[0]"
      ]
    },
    {
      "cell_type": "code",
      "execution_count": 12,
      "metadata": {
        "id": "0Ty_Sq40Raeu"
      },
      "outputs": [],
      "source": [
        "args.data = 'custom'"
      ]
    },
    {
      "attachments": {},
      "cell_type": "markdown",
      "metadata": {},
      "source": [
        "# Training & Inference"
      ]
    },
    {
      "attachments": {},
      "cell_type": "markdown",
      "metadata": {},
      "source": [
        "# Training section (skipped)"
      ]
    },
    {
      "cell_type": "code",
      "execution_count": 3,
      "metadata": {
        "colab": {
          "base_uri": "https://localhost:8080/"
        },
        "id": "JYWSiqHFRc15",
        "outputId": "275a42db-b77e-4811-9a2c-854a06ebe0ab"
      },
      "outputs": [],
      "source": [
        "#for ii in range(args.itr):\n",
        "    # setting record of experiments\n",
        "#    setting = '{}_{}_ft{}_sl{}_ll{}_pl{}_dm{}_nh{}_el{}_dl{}_df{}_at{}_fc{}_eb{}_dt{}_mx{}_{}_{}'.format(args.model, args.data, args.features, \n",
        "#                args.seq_len, args.label_len, args.pred_len,\n",
        "#                args.d_model, args.n_heads, args.e_layers, args.d_layers, args.d_ff, args.attn, args.factor, args.embed, args.distil, args.mix, args.des, ii)\n",
        "\n",
        "    # set experiments\n",
        " #   exp = Exp(args)\n",
        "    \n",
        "    # train\n",
        " #   print('>>>>>>>start training : {}>>>>>>>>>>>>>>>>>>>>>>>>>>'.format(setting))\n",
        " #   exp.train(setting)"
      ]
    },
    {
      "cell_type": "code",
      "execution_count": 10,
      "metadata": {
        "id": "fyPuacStRwGe"
      },
      "outputs": [],
      "source": [
        "# torch.save(exp.state_dict(), './informer_checkpoint.pt')"
      ]
    },
    {
      "attachments": {},
      "cell_type": "markdown",
      "metadata": {},
      "source": [
        "# Inference"
      ]
    },
    {
      "attachments": {},
      "cell_type": "markdown",
      "metadata": {},
      "source": [
        "### Memory footprint"
      ]
    },
    {
      "cell_type": "code",
      "execution_count": 13,
      "metadata": {},
      "outputs": [
        {
          "data": {
            "text/plain": [
              "(0, None)"
            ]
          },
          "execution_count": 13,
          "metadata": {},
          "output_type": "execute_result"
        }
      ],
      "source": [
        "import gc\n",
        "gc.collect(), torch.cuda.empty_cache()"
      ]
    },
    {
      "cell_type": "code",
      "execution_count": 14,
      "metadata": {},
      "outputs": [
        {
          "name": "stdout",
          "output_type": "stream",
          "text": [
            "warm up...\n",
            "Use GPU: cuda:0\n",
            "test 17276\n",
            "Memory footprint...\n",
            "Use GPU: cuda:0\n",
            "test 17276\n",
            "- - - - Seq length 15, Memory used = 83.96604766444216\n",
            "Use GPU: cuda:0\n",
            "test 17276\n",
            "- - - - Seq length 30, Memory used = 167.93209532888454\n",
            "Use GPU: cuda:0\n",
            "test 17276\n",
            "- - - - Seq length 60, Memory used = 419.83023832221147\n",
            "Use GPU: cuda:0\n",
            "test 17276\n",
            "- - - - Seq length 120, Memory used = 839.6604766444232\n",
            "Use GPU: cuda:0\n",
            "test 17276\n",
            "- - - - Seq length 240, Memory used = 1772.5832430886558\n"
          ]
        }
      ],
      "source": [
        "print('warm up...')\n",
        "args.seq_len = 15\n",
        "args.label_len = int(args.seq_len / 2)\n",
        "exp = Exp_Informer(args)\n",
        "before_inference = torch.cuda.mem_get_info()[0]/1.049e+6\n",
        "with torch.no_grad():\n",
        "    exp.model.load_state_dict(torch.load(f'../checkpoints_informer/checkpoint_CL={15}.pth'))\n",
        "    pred_data, pred_loader = exp._get_data(flag='test')\n",
        "    batch_x,batch_y,batch_x_mark,batch_y_mark = next(iter(pred_loader))\n",
        "    pred, true = exp._process_one_batch(pred_data, batch_x, batch_y, batch_x_mark, batch_y_mark)\n",
        "after_inference = torch.cuda.mem_get_info()[0]/1.049e+6\n",
        "#print(f'- - - - Seq length {args.seq_len}, Memory used = {before_inference - after_inference}')\n",
        "print('Memory footprint...')\n",
        "gc.collect(), torch.cuda.empty_cache()\n",
        "for CL in [15, 30, 60, 120, 240]:\n",
        "    args.seq_len = CL\n",
        "    args.label_len = int(args.seq_len / 2)\n",
        "    exp = Exp_Informer(args)\n",
        "    before_inference = torch.cuda.mem_get_info()[0]/1.049e+6\n",
        "    with torch.no_grad():\n",
        "        exp.model.load_state_dict(torch.load(f'../checkpoints_informer/checkpoint_CL={CL}.pth'))\n",
        "        pred_data, pred_loader = exp._get_data(flag='test')\n",
        "        batch_x,batch_y,batch_x_mark,batch_y_mark = next(iter(pred_loader))\n",
        "        pred, true = exp._process_one_batch(pred_data, batch_x, batch_y, batch_x_mark, batch_y_mark)\n",
        "    after_inference = torch.cuda.mem_get_info()[0]/1.049e+6\n",
        "    print(f'- - - - Seq length {args.seq_len}, Memory used = {before_inference - after_inference}')\n",
        "    gc.collect(), torch.cuda.empty_cache()\n"
      ]
    },
    {
      "attachments": {},
      "cell_type": "markdown",
      "metadata": {},
      "source": [
        "### Inference speed"
      ]
    },
    {
      "cell_type": "code",
      "execution_count": 31,
      "metadata": {},
      "outputs": [],
      "source": [
        "import time"
      ]
    },
    {
      "cell_type": "code",
      "execution_count": 32,
      "metadata": {},
      "outputs": [],
      "source": [
        "import numpy as np"
      ]
    },
    {
      "cell_type": "code",
      "execution_count": 13,
      "metadata": {},
      "outputs": [],
      "source": [
        "def benchmark(exp, pred_data, batch_x, batch_y, batch_x_mark, batch_y_mark, dtype='fp32', nwarmup=50, nruns=1000, device='cuda', period=100):\n",
        "    print(\"Warm up ...\")\n",
        "    with torch.no_grad():\n",
        "        for _ in range(nwarmup):\n",
        "            features = exp._process_one_batch(pred_data, batch_x, batch_y, batch_x_mark, batch_y_mark)\n",
        "    torch.cuda.synchronize()\n",
        "    print(\"Start timing ...\")\n",
        "    timings = []\n",
        "    with torch.no_grad():\n",
        "        for i in range(1, nruns+1):\n",
        "            start_time = time.time()\n",
        "            _ = exp._process_one_batch(pred_data, batch_x, batch_y, batch_x_mark, batch_y_mark)\n",
        "            torch.cuda.synchronize()\n",
        "            end_time = time.time()\n",
        "            timings.append(end_time - start_time)\n",
        "            if i%period==0:\n",
        "                print('Iteration %d/%d, ave batch time %.2f ms'%(i, nruns, np.mean(timings)*nruns))\n",
        "\n",
        "    #print(\"Output features size:\", features.size())\n",
        "\n",
        "    print('Average batch time: %.2f ms'%(np.mean(timings)*nruns))\n",
        "\n",
        "    return np.mean(timings)*nruns"
      ]
    },
    {
      "cell_type": "code",
      "execution_count": 17,
      "metadata": {},
      "outputs": [],
      "source": [
        "import time\n",
        "import numpy as np"
      ]
    },
    {
      "cell_type": "code",
      "execution_count": 20,
      "metadata": {},
      "outputs": [
        {
          "name": "stdout",
          "output_type": "stream",
          "text": [
            "current15\n",
            "Use GPU: cuda:0\n",
            "test 17276\n",
            "Warm up ...\n",
            "Start timing ...\n",
            "Iteration 100/1000, ave batch time 90.32 ms\n",
            "Iteration 200/1000, ave batch time 90.64 ms\n",
            "Iteration 300/1000, ave batch time 91.58 ms\n",
            "Iteration 400/1000, ave batch time 91.51 ms\n",
            "Iteration 500/1000, ave batch time 91.38 ms\n",
            "Iteration 600/1000, ave batch time 91.25 ms\n",
            "Iteration 700/1000, ave batch time 91.49 ms\n",
            "Iteration 800/1000, ave batch time 91.38 ms\n",
            "Iteration 900/1000, ave batch time 91.60 ms\n",
            "Iteration 1000/1000, ave batch time 91.78 ms\n",
            "Average batch time: 91.78 ms\n",
            "current30\n",
            "Use GPU: cuda:0\n",
            "test 17276\n",
            "Warm up ...\n",
            "Start timing ...\n",
            "Iteration 100/1000, ave batch time 150.09 ms\n",
            "Iteration 200/1000, ave batch time 150.13 ms\n",
            "Iteration 300/1000, ave batch time 151.75 ms\n",
            "Iteration 400/1000, ave batch time 151.78 ms\n",
            "Iteration 500/1000, ave batch time 152.55 ms\n",
            "Iteration 600/1000, ave batch time 152.25 ms\n",
            "Iteration 700/1000, ave batch time 152.55 ms\n",
            "Iteration 800/1000, ave batch time 152.76 ms\n",
            "Iteration 900/1000, ave batch time 152.60 ms\n",
            "Iteration 1000/1000, ave batch time 152.82 ms\n",
            "Average batch time: 152.82 ms\n",
            "current60\n",
            "Use GPU: cuda:0\n",
            "test 17276\n",
            "Warm up ...\n",
            "Start timing ...\n",
            "Iteration 100/1000, ave batch time 294.20 ms\n",
            "Iteration 200/1000, ave batch time 295.91 ms\n",
            "Iteration 300/1000, ave batch time 296.51 ms\n",
            "Iteration 400/1000, ave batch time 296.81 ms\n",
            "Iteration 500/1000, ave batch time 296.83 ms\n",
            "Iteration 600/1000, ave batch time 296.34 ms\n",
            "Iteration 700/1000, ave batch time 296.26 ms\n",
            "Iteration 800/1000, ave batch time 296.38 ms\n",
            "Iteration 900/1000, ave batch time 296.60 ms\n",
            "Iteration 1000/1000, ave batch time 296.35 ms\n",
            "Average batch time: 296.35 ms\n",
            "current120\n",
            "Use GPU: cuda:0\n",
            "test 17276\n",
            "Warm up ...\n",
            "Start timing ...\n",
            "Iteration 100/1000, ave batch time 548.53 ms\n",
            "Iteration 200/1000, ave batch time 546.72 ms\n",
            "Iteration 300/1000, ave batch time 543.42 ms\n",
            "Iteration 400/1000, ave batch time 541.63 ms\n",
            "Iteration 500/1000, ave batch time 541.89 ms\n",
            "Iteration 600/1000, ave batch time 541.82 ms\n",
            "Iteration 700/1000, ave batch time 541.86 ms\n",
            "Iteration 800/1000, ave batch time 541.66 ms\n",
            "Iteration 900/1000, ave batch time 541.65 ms\n",
            "Iteration 1000/1000, ave batch time 542.22 ms\n",
            "Average batch time: 542.22 ms\n",
            "current240\n",
            "Use GPU: cuda:0\n",
            "test 17276\n",
            "Warm up ...\n",
            "Start timing ...\n",
            "Iteration 100/1000, ave batch time 915.15 ms\n",
            "Iteration 200/1000, ave batch time 918.42 ms\n",
            "Iteration 300/1000, ave batch time 916.69 ms\n",
            "Iteration 400/1000, ave batch time 915.49 ms\n",
            "Iteration 500/1000, ave batch time 916.43 ms\n",
            "Iteration 600/1000, ave batch time 917.31 ms\n",
            "Iteration 700/1000, ave batch time 917.17 ms\n",
            "Iteration 800/1000, ave batch time 916.92 ms\n",
            "Iteration 900/1000, ave batch time 917.36 ms\n",
            "Iteration 1000/1000, ave batch time 918.06 ms\n",
            "Average batch time: 918.06 ms\n"
          ]
        }
      ],
      "source": [
        "for CL in [15, 30, 60, 120, 240]:\n",
        "    args.seq_len = CL\n",
        "    args.label_len = int(args.seq_len / 2)\n",
        "    print(f'current{args.seq_len}')\n",
        "    exp = Exp_Informer(args)\n",
        "    before_inference = torch.cuda.mem_get_info()[0]/1.049e+6\n",
        "    with torch.no_grad():\n",
        "        exp.model.load_state_dict(torch.load(f'../checkpoints_informer/checkpoint_CL={CL}.pth'))\n",
        "        pred_data, pred_loader = exp._get_data(flag='test')\n",
        "        batch_x,batch_y,batch_x_mark,batch_y_mark = next(iter(pred_loader))\n",
        "        benchmark(exp, pred_data, batch_x, batch_y, batch_x_mark, batch_y_mark)\n",
        "    after_inference = torch.cuda.mem_get_info()[0]/1.049e+6\n",
        "    gc.collect(), torch.cuda.empty_cache()\n"
      ]
    },
    {
      "attachments": {},
      "cell_type": "markdown",
      "metadata": {},
      "source": [
        "### Predictions quality"
      ]
    },
    {
      "cell_type": "code",
      "execution_count": 25,
      "metadata": {
        "colab": {
          "base_uri": "https://localhost:8080/"
        },
        "id": "vBOSYVpko3vi",
        "outputId": "49166645-a9e1-45ef-9b42-121727767eb5"
      },
      "outputs": [
        {
          "name": "stdout",
          "output_type": "stream",
          "text": [
            ">>>>>>>testing : informer_custom_ftS_sl96_ll48_pl1_dm512_nh8_el2_dl1_df2048_atprob_fc1_ebtimeF_dtTrue_mxTrue_exp_0<<<<<<<<<<<<<<<<<<<<<<<<<<<<<<<<<\n",
            "test 17280\n",
            "test shape: (17280, 1, 1, 1) (17280, 1, 1, 1)\n",
            "test shape: (17280, 1, 1) (17280, 1, 1)\n",
            "mse:7.218769073486328, mae:1.9692894220352173\n"
          ]
        }
      ],
      "source": [
        "# test\n",
        "print('>>>>>>>testing : {}<<<<<<<<<<<<<<<<<<<<<<<<<<<<<<<<<'.format(setting))\n",
        "exp.test(setting)\n",
        "\n",
        "# torch.cuda.empty_cache()"
      ]
    },
    {
      "cell_type": "code",
      "execution_count": 26,
      "metadata": {
        "colab": {
          "base_uri": "https://localhost:8080/"
        },
        "id": "Oij4Laer_DVr",
        "outputId": "97f5bf00-3b32-40b9-caa5-fcb28d0778a7"
      },
      "outputs": [
        {
          "name": "stdout",
          "output_type": "stream",
          "text": [
            "after inference || free: 13644.232846520496 total: 15103.642722592946 [in MiB]\n"
          ]
        }
      ],
      "source": [
        "print('after inference ||',  'free:', torch.cuda.mem_get_info()[0]/1.049e+6, 'total:', torch.cuda.mem_get_info()[1]/1.049e+6, '[in MiB]')\n",
        "after_inference = torch.cuda.mem_get_info()[0]/1.049e+6"
      ]
    },
    {
      "cell_type": "code",
      "execution_count": 28,
      "metadata": {
        "id": "Az5-pkxbG1IF"
      },
      "outputs": [],
      "source": [
        "import numpy as np\n",
        "y_pred = np.load('/content/Informer2020/results/informer_custom_ftS_sl96_ll48_pl1_dm512_nh8_el2_dl1_df2048_atprob_fc1_ebtimeF_dtTrue_mxTrue_exp_0/pred.npy')\n",
        "y_true = np.load('/content/Informer2020/results/informer_custom_ftS_sl96_ll48_pl1_dm512_nh8_el2_dl1_df2048_atprob_fc1_ebtimeF_dtTrue_mxTrue_exp_0/true.npy')"
      ]
    },
    {
      "cell_type": "code",
      "execution_count": 30,
      "metadata": {
        "id": "iiQ01NV_H0Lg"
      },
      "outputs": [],
      "source": [
        "y_pred_1d = np.squeeze(y_pred)\n",
        "y_true_1d = np.squeeze(y_true)"
      ]
    },
    {
      "cell_type": "code",
      "execution_count": 36,
      "metadata": {
        "colab": {
          "base_uri": "https://localhost:8080/"
        },
        "id": "oEKXR8hDJlwo",
        "outputId": "102df3bb-8b4f-4ee7-c6c5-b671ef394ea1"
      },
      "outputs": [
        {
          "data": {
            "text/plain": [
              "17280"
            ]
          },
          "execution_count": 36,
          "metadata": {},
          "output_type": "execute_result"
        }
      ],
      "source": [
        "len(y_pred_1d)"
      ]
    },
    {
      "cell_type": "code",
      "execution_count": 34,
      "metadata": {
        "colab": {
          "base_uri": "https://localhost:8080/",
          "height": 621
        },
        "id": "mSUVNbBxHWLw",
        "outputId": "1d0b9232-cdfa-47ab-a1c9-e5615ad4abc0"
      },
      "outputs": [
        {
          "data": {
            "image/png": "[encoded data removed]",
            "text/plain": [
              "<Figure size 720x720 with 1 Axes>"
            ]
          },
          "metadata": {
            "needs_background": "light"
          },
          "output_type": "display_data"
        }
      ],
      "source": [
        "import matplotlib.pyplot as plt\n",
        "plt.rcParams[\"figure.figsize\"] = (10,10)\n",
        "\n",
        "plt.plot(range(10000), y_pred_1d[:10000], color='r', label='predictions')\n",
        "plt.plot(range(10000), y_true_1d[:10000], color='g', label='real')\n",
        "\n",
        "\n",
        "plt.xlabel(\"time\")\n",
        "plt.ylabel(\"Value\")\n",
        "plt.title(\"Autoregressive Predictions\")\n",
        "\n",
        "\n",
        "plt.legend()\n",
        "\n",
        "\n",
        "plt.show()"
      ]
    },
    {
      "cell_type": "code",
      "execution_count": null,
      "metadata": {
        "id": "MeUb59rnHt_z"
      },
      "outputs": [],
      "source": []
    }
  ],
  "metadata": {
    "accelerator": "GPU",
    "colab": {
      "provenance": []
    },
    "gpuClass": "standard",
    "kernelspec": {
      "display_name": "base",
      "language": "python",
      "name": "python3"
    },
    "language_info": {
      "codemirror_mode": {
        "name": "ipython",
        "version": 3
      },
      "file_extension": ".py",
      "mimetype": "text/x-python",
      "name": "python",
      "nbconvert_exporter": "python",
      "pygments_lexer": "ipython3",
      "version": "3.9.12"
    },
    "vscode": {
      "interpreter": {
        "hash": "88279d2366fe020547cde40dd65aa0e3aa662a6ec1f3ca12d88834876c85e1a6"
      }
    }
  },
  "nbformat": 4,
  "nbformat_minor": 0
}
